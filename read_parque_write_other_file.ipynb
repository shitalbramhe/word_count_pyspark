{
 "cells": [
  {
   "cell_type": "code",
   "execution_count": 1,
   "metadata": {},
   "outputs": [
    {
     "name": "stderr",
     "output_type": "stream",
     "text": [
      "22/03/24 16:43:21 WARN Utils: Your hostname, shital-VivoBook-ASUS-Laptop-X505ZA-X505ZA resolves to a loopback address: 127.0.1.1; using 192.168.0.241 instead (on interface wlp1s0)\n",
      "22/03/24 16:43:21 WARN Utils: Set SPARK_LOCAL_IP if you need to bind to another address\n",
      "Using Spark's default log4j profile: org/apache/spark/log4j-defaults.properties\n",
      "Setting default log level to \"WARN\".\n",
      "To adjust logging level use sc.setLogLevel(newLevel). For SparkR, use setLogLevel(newLevel).\n",
      "22/03/24 16:43:27 WARN NativeCodeLoader: Unable to load native-hadoop library for your platform... using builtin-java classes where applicable\n"
     ]
    }
   ],
   "source": [
    "from pyspark.sql import SparkSession\n",
    "spark = SparkSession.builder\\\n",
    "                    .master(\"local\")\\\n",
    "                    .appName(\"read parque write to other file\")\\\n",
    "                    .getOrCreate()\n"
   ]
  },
  {
   "cell_type": "code",
   "execution_count": 2,
   "metadata": {},
   "outputs": [],
   "source": [
    "import pyspark.sql.functions as f"
   ]
  },
  {
   "cell_type": "code",
   "execution_count": 3,
   "metadata": {},
   "outputs": [
    {
     "name": "stderr",
     "output_type": "stream",
     "text": [
      "                                                                                \r"
     ]
    }
   ],
   "source": [
    "parqfile1 = spark.read.parquet(\"output/outputparq.parquet\")"
   ]
  },
  {
   "cell_type": "code",
   "execution_count": 4,
   "metadata": {},
   "outputs": [
    {
     "name": "stderr",
     "output_type": "stream",
     "text": [
      "[Stage 1:>                                                          (0 + 1) / 1]\r"
     ]
    },
    {
     "name": "stdout",
     "output_type": "stream",
     "text": [
      "+--------------+----------+----------+--------------+\n",
      "|         State|Population|AreaInSqKm|DensityPerSqKm|\n",
      "+--------------+----------+----------+--------------+\n",
      "| Uttar Pradesh| 199812341|    240928|           828|\n",
      "|   Maharashtra| 112372972|    307713|           365|\n",
      "|         Bihar| 103804637|     94163|          1102|\n",
      "|Madhya Pradesh|  91347736|     88752|          1029|\n",
      "|Madhya Pradesh|  72597565|    308245|           236|\n",
      "|    Tamil Nadu|  72138958|    130058|           555|\n",
      "|     Rajasthan|  68621012|    342239|           201|\n",
      "|     Karnataka|  61130704|    191791|           319|\n",
      "|       Gujarat|  60383628|    196024|           308|\n",
      "|         Bihar|  49386799|    162968|           303|\n",
      "|        Odisha|  41947358|    155707|           269|\n",
      "|     Telangana|  35286757|    114840|           307|\n",
      "|        Kerala|  33387677|     38863|           859|\n",
      "|   Maharashtra|  32966238|     79714|           414|\n",
      "|Madhya Pradesh|  31169272|     78438|           397|\n",
      "|        Punjab|  27704236|     50362|           550|\n",
      "|   Maharashtra|  25540196|    135191|           189|\n",
      "|Madhya Pradesh|  25353081|     44212|           573|\n",
      "+--------------+----------+----------+--------------+\n",
      "\n"
     ]
    },
    {
     "name": "stderr",
     "output_type": "stream",
     "text": [
      "                                                                                \r"
     ]
    }
   ],
   "source": [
    "parqfile1.show()"
   ]
  },
  {
   "cell_type": "code",
   "execution_count": 5,
   "metadata": {},
   "outputs": [],
   "source": [
    "parqfile1.write.mode('Overwrite').json(\"file:///home/shital/Desktop/pyspark_program/output/outputparq.json\")"
   ]
  },
  {
   "cell_type": "code",
   "execution_count": 6,
   "metadata": {},
   "outputs": [
    {
     "name": "stderr",
     "output_type": "stream",
     "text": [
      "                                                                                \r"
     ]
    }
   ],
   "source": [
    "jsonfile1 = spark.read.json(\"file:///home/shital/Desktop/pyspark_program/output/outputparq.json\")"
   ]
  },
  {
   "cell_type": "code",
   "execution_count": 7,
   "metadata": {},
   "outputs": [
    {
     "name": "stdout",
     "output_type": "stream",
     "text": [
      "+----------+--------------+----------+--------------+\n",
      "|AreaInSqKm|DensityPerSqKm|Population|State         |\n",
      "+----------+--------------+----------+--------------+\n",
      "|240928    |828           |199812341 |Uttar Pradesh |\n",
      "|307713    |365           |112372972 |Maharashtra   |\n",
      "|94163     |1102          |103804637 |Bihar         |\n",
      "|88752     |1029          |91347736  |Madhya Pradesh|\n",
      "|308245    |236           |72597565  |Madhya Pradesh|\n",
      "|130058    |555           |72138958  |Tamil Nadu    |\n",
      "|342239    |201           |68621012  |Rajasthan     |\n",
      "|191791    |319           |61130704  |Karnataka     |\n",
      "|196024    |308           |60383628  |Gujarat       |\n",
      "|162968    |303           |49386799  |Bihar         |\n",
      "|155707    |269           |41947358  |Odisha        |\n",
      "|114840    |307           |35286757  |Telangana     |\n",
      "|38863     |859           |33387677  |Kerala        |\n",
      "|79714     |414           |32966238  |Maharashtra   |\n",
      "|78438     |397           |31169272  |Madhya Pradesh|\n",
      "|50362     |550           |27704236  |Punjab        |\n",
      "|135191    |189           |25540196  |Maharashtra   |\n",
      "|44212     |573           |25353081  |Madhya Pradesh|\n",
      "+----------+--------------+----------+--------------+\n",
      "\n"
     ]
    }
   ],
   "source": [
    "jsonfile1.show(truncate=0)"
   ]
  },
  {
   "cell_type": "code",
   "execution_count": 8,
   "metadata": {},
   "outputs": [
    {
     "name": "stderr",
     "output_type": "stream",
     "text": [
      "                                                                                \r"
     ]
    }
   ],
   "source": [
    "parqfile1.write.format('csv').mode('overwrite').option('header',True).save(\"file:///home/shital/Desktop/pyspark_program/output/outputparq.csv\")"
   ]
  },
  {
   "cell_type": "code",
   "execution_count": 9,
   "metadata": {},
   "outputs": [],
   "source": [
    "csv_read = spark.read.format('csv').option('header',True).load('output/outputparq')"
   ]
  },
  {
   "cell_type": "code",
   "execution_count": 10,
   "metadata": {},
   "outputs": [
    {
     "name": "stdout",
     "output_type": "stream",
     "text": [
      "+---------------------------+\n",
      "|PAR1\u0015\u0004\u0015�\u0002\u0015�\u0002\u0015Œ��\u0006<\u0015\u0018\u0015\u0004\u0000\u0000�\u0001�|\n",
      "+---------------------------+\n",
      "|       \u0000\u0000\u0000Uttar Pradesh\\...|\n",
      "|       \u0000\u0000\u0000Tamil Nadu\\t\u0000\u0000...|\n",
      "|       tKarnataka\\a\u0000\u0000\u0000Gu...|\n",
      "|                 \u001c12372972\u0005|\n",
      "|       L03804637\\b\u0000\u0000\u0000913...|\n",
      "|       4307713\u0005\u0000\u0000\u00009416\u0005\\...|\n",
      "|       \u001013005\\t0\u001042239\u0005\u0014...|\n",
      "|                    \\f6024\u0005|\n",
      "|          \\f6296\u0005(\u0014155707\u0005\u0014|\n",
      "|       Uttar Pradesh\u0015\u0002\u0019\u0016...|\n",
      "|       Population%\u0000L\u001c\u0000\u0000\u0000...|\n",
      "|       AreaInSqKm%\u0000L\u001c\u0000\u0000\u0000...|\n",
      "|       Uttar Pradesh\u0018\u0005Bi...|\n",
      "|       \u0015\u0016\u0016�\\v\u0015B\u0000&�\u0003\u001c\u0015\\f\u0019...|\n",
      "|       Population\u0015\u0002\u0016$\u0016�\u0003...|\n",
      "|       \u0015\u0018\u0016�\\f\u0015@\u0000&�\u0006\u001c\u0015\\f\u0019...|\n",
      "|       AreaInSqKm\u0015\u0002\u0016$\u0016�\u0003...|\n",
      "|                          \u0015|\n",
      "+---------------------------+\n",
      "\n"
     ]
    }
   ],
   "source": [
    "csv_read.show()"
   ]
  }
 ],
 "metadata": {
  "interpreter": {
   "hash": "916dbcbb3f70747c44a77c7bcd40155683ae19c65e1c03b4aa3499c5328201f1"
  },
  "kernelspec": {
   "display_name": "Python 3.8.10 64-bit",
   "language": "python",
   "name": "python3"
  },
  "language_info": {
   "codemirror_mode": {
    "name": "ipython",
    "version": 3
   },
   "file_extension": ".py",
   "mimetype": "text/x-python",
   "name": "python",
   "nbconvert_exporter": "python",
   "pygments_lexer": "ipython3",
   "version": "3.8.10"
  },
  "orig_nbformat": 4
 },
 "nbformat": 4,
 "nbformat_minor": 2
}
