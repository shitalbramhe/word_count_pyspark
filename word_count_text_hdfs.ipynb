{
 "cells": [
  {
   "cell_type": "code",
   "execution_count": 13,
   "metadata": {},
   "outputs": [
    {
     "name": "stderr",
     "output_type": "stream",
     "text": [
      "                                                                                \r"
     ]
    },
    {
     "data": {
      "text/plain": [
       "[('hello', 3),\n",
       " ('hi', 3),\n",
       " ('friends', 1),\n",
       " ('mam', 1),\n",
       " ('good', 2),\n",
       " ('morning', 1),\n",
       " ('night', 1),\n",
       " ('how', 2),\n",
       " ('are', 2),\n",
       " ('you', 2)]"
      ]
     },
     "execution_count": 13,
     "metadata": {},
     "output_type": "execute_result"
    },
    {
     "name": "stderr",
     "output_type": "stream",
     "text": [
      "22/03/17 09:28:36 WARN HeartbeatReceiver: Removing executor driver with no recent heartbeats: 134934 ms exceeds timeout 120000 ms\n",
      "22/03/17 09:28:39 WARN SparkContext: Killing executors is not supported by current scheduler.\n"
     ]
    }
   ],
   "source": [
    "from pyspark import SparkContext, SparkConf\n",
    "\n",
    "conf = SparkConf().setAppName(\"Demo\").setMaster(\"local\")\n",
    "sc = SparkContext(conf = conf)\n",
    "\n",
    "textfile = sc.textFile(\"hdfs://localhost:9000/demo/input_text.txt\")\n",
    "words = textfile.flatMap(lambda line: line.split(\" \"))\n",
    "wordcount = words.map(lambda word : (word,1)).reduceByKey(lambda a,b:a+b)\n",
    "wordcount.collect()"
   ]
  },
  {
   "cell_type": "code",
   "execution_count": 12,
   "metadata": {},
   "outputs": [],
   "source": [
    "sc.stop()"
   ]
  }
 ],
 "metadata": {
  "interpreter": {
   "hash": "916dbcbb3f70747c44a77c7bcd40155683ae19c65e1c03b4aa3499c5328201f1"
  },
  "kernelspec": {
   "display_name": "Python 3.8.10 64-bit",
   "language": "python",
   "name": "python3"
  },
  "language_info": {
   "codemirror_mode": {
    "name": "ipython",
    "version": 3
   },
   "file_extension": ".py",
   "mimetype": "text/x-python",
   "name": "python",
   "nbconvert_exporter": "python",
   "pygments_lexer": "ipython3",
   "version": "3.8.10"
  },
  "orig_nbformat": 4
 },
 "nbformat": 4,
 "nbformat_minor": 2
}
