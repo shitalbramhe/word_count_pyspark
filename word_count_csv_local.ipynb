{
 "cells": [
  {
   "cell_type": "code",
   "execution_count": 4,
   "metadata": {},
   "outputs": [
    {
     "name": "stderr",
     "output_type": "stream",
     "text": [
      "22/03/20 18:10:25 WARN Utils: Service 'SparkUI' could not bind on port 4040. Attempting port 4041.\n",
      "                                                                                \r"
     ]
    },
    {
     "data": {
      "text/plain": [
       "[('State', 1),\n",
       " ('Population', 1),\n",
       " ('AreaInSqKm', 1),\n",
       " ('DensityPerSqKm', 1),\n",
       " ('Uttar Pradesh', 1),\n",
       " ('199812341', 1),\n",
       " ('240928', 1),\n",
       " ('828', 1),\n",
       " ('Maharashtra', 3),\n",
       " ('112372972', 1),\n",
       " ('307713', 1),\n",
       " ('365', 1),\n",
       " ('Bihar', 2),\n",
       " ('103804637', 1),\n",
       " ('94163', 1),\n",
       " ('1102', 1),\n",
       " ('Madhya Pradesh', 4),\n",
       " ('91347736', 1),\n",
       " ('88752', 1),\n",
       " ('1029', 1),\n",
       " ('72597565', 1),\n",
       " ('308245', 1),\n",
       " ('236', 1),\n",
       " ('Tamil Nadu', 1),\n",
       " ('72138958', 1),\n",
       " ('130058', 1),\n",
       " ('555', 1),\n",
       " ('Rajasthan', 1),\n",
       " ('68621012', 1),\n",
       " ('342239', 1),\n",
       " ('201', 1),\n",
       " ('Karnataka', 1),\n",
       " ('61130704', 1),\n",
       " ('191791', 1),\n",
       " ('319', 1),\n",
       " ('Gujarat', 1),\n",
       " ('60383628', 1),\n",
       " ('196024', 1),\n",
       " ('308', 1),\n",
       " ('49386799', 1),\n",
       " ('162968', 1),\n",
       " ('303', 1),\n",
       " ('Odisha', 1),\n",
       " ('41947358', 1),\n",
       " ('155707', 1),\n",
       " ('269', 1),\n",
       " ('Telangana', 1),\n",
       " ('35286757', 1),\n",
       " ('114840', 1),\n",
       " ('307', 1),\n",
       " ('Kerala', 1),\n",
       " ('33387677', 1),\n",
       " ('38863', 1),\n",
       " ('859', 1),\n",
       " ('32966238', 1),\n",
       " ('79714', 1),\n",
       " ('414', 1),\n",
       " ('31169272', 1),\n",
       " ('78438', 1),\n",
       " ('397', 1),\n",
       " ('Punjab', 1),\n",
       " ('27704236', 1),\n",
       " ('50362', 1),\n",
       " ('550', 1),\n",
       " ('25540196', 1),\n",
       " ('135191', 1),\n",
       " ('189', 1),\n",
       " ('25353081', 1),\n",
       " ('44212', 1),\n",
       " ('573', 1)]"
      ]
     },
     "execution_count": 4,
     "metadata": {},
     "output_type": "execute_result"
    }
   ],
   "source": [
    "from pyspark import SparkContext, SparkConf\n",
    "\n",
    "conf = SparkConf().setAppName(\"Demo\").setMaster(\"local\")\n",
    "sc = SparkContext(conf = conf)\n",
    "\n",
    "textfile = sc.textFile(\"file:///home/shital/Desktop/pyspark_program/input/StateCensusData.csv\")\n",
    "words = textfile.flatMap(lambda line: line.split(\",\"))\n",
    "wordcount = words.map(lambda word : (word,1)).reduceByKey(lambda a,b:a+b)\n",
    "wordcount.collect()"
   ]
  },
  {
   "cell_type": "code",
   "execution_count": 3,
   "metadata": {},
   "outputs": [],
   "source": [
    "sc.stop()"
   ]
  }
 ],
 "metadata": {
  "interpreter": {
   "hash": "916dbcbb3f70747c44a77c7bcd40155683ae19c65e1c03b4aa3499c5328201f1"
  },
  "kernelspec": {
   "display_name": "Python 3.8.10 64-bit",
   "language": "python",
   "name": "python3"
  },
  "language_info": {
   "codemirror_mode": {
    "name": "ipython",
    "version": 3
   },
   "file_extension": ".py",
   "mimetype": "text/x-python",
   "name": "python",
   "nbconvert_exporter": "python",
   "pygments_lexer": "ipython3",
   "version": "3.8.10"
  },
  "orig_nbformat": 4
 },
 "nbformat": 4,
 "nbformat_minor": 2
}
