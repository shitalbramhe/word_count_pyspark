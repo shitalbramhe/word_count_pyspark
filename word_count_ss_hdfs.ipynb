{
 "cells": [
  {
   "cell_type": "code",
   "execution_count": 2,
   "metadata": {},
   "outputs": [
    {
     "name": "stderr",
     "output_type": "stream",
     "text": [
      "22/03/20 22:41:16 WARN Utils: Your hostname, shital-VivoBook-ASUS-Laptop-X505ZA-X505ZA resolves to a loopback address: 127.0.1.1; using 192.168.0.241 instead (on interface wlp1s0)\n",
      "22/03/20 22:41:16 WARN Utils: Set SPARK_LOCAL_IP if you need to bind to another address\n",
      "Using Spark's default log4j profile: org/apache/spark/log4j-defaults.properties\n",
      "Setting default log level to \"WARN\".\n",
      "To adjust logging level use sc.setLogLevel(newLevel). For SparkR, use setLogLevel(newLevel).\n",
      "22/03/20 22:41:27 WARN NativeCodeLoader: Unable to load native-hadoop library for your platform... using builtin-java classes where applicable\n",
      "22/03/20 22:41:48 WARN Utils: Service 'SparkUI' could not bind on port 4040. Attempting port 4041.\n",
      "22/03/20 22:41:48 WARN Utils: Service 'SparkUI' could not bind on port 4041. Attempting port 4042.\n",
      "22/03/20 22:41:48 WARN Utils: Service 'SparkUI' could not bind on port 4042. Attempting port 4043.\n"
     ]
    }
   ],
   "source": [
    "from pyspark.sql import SparkSession\n",
    "spark = SparkSession.builder\\\n",
    "                    .master(\"local\")\\\n",
    "                    .appName(\"word count hdfs file Spark Session\")\\\n",
    "                    .getOrCreate()\n"
   ]
  },
  {
   "cell_type": "code",
   "execution_count": 5,
   "metadata": {},
   "outputs": [],
   "source": [
    "import pyspark.sql.functions as f"
   ]
  },
  {
   "cell_type": "code",
   "execution_count": null,
   "metadata": {},
   "outputs": [],
   "source": [
    "# Word Count program for text file\n",
    "textfile = spark.read.text(\"hdfs://localhost:9000/demo/input_text.txt\")\n",
    "textfile.show()"
   ]
  },
  {
   "cell_type": "code",
   "execution_count": 34,
   "metadata": {},
   "outputs": [
    {
     "name": "stderr",
     "output_type": "stream",
     "text": [
      "[Stage 29:>                                                         (0 + 1) / 1]\r"
     ]
    },
    {
     "name": "stdout",
     "output_type": "stream",
     "text": [
      "+-------+-----+\n",
      "|   word|count|\n",
      "+-------+-----+\n",
      "|welcome|    1|\n",
      "|       |    1|\n",
      "|    how|    1|\n",
      "|    you|    1|\n",
      "|    are|    1|\n",
      "|morning|    2|\n",
      "|   good|    2|\n",
      "|     hi|    3|\n",
      "+-------+-----+\n",
      "\n"
     ]
    },
    {
     "name": "stderr",
     "output_type": "stream",
     "text": [
      "                                                                                \r"
     ]
    }
   ],
   "source": [
    "textfile.withColumn('word', f.explode(f.split(f.col('value'),' ')))\\\n",
    "    .groupBy('word')\\\n",
    "    .count()\\\n",
    "    .sort('count')\\\n",
    "    .show()"
   ]
  },
  {
   "cell_type": "code",
   "execution_count": 11,
   "metadata": {},
   "outputs": [],
   "source": [
    "csvfile = spark.read.option(\"header\", True).csv(\"file:///home/shital/Desktop/pyspark_program/input/StateCensusData.csv\")"
   ]
  },
  {
   "cell_type": "code",
   "execution_count": 12,
   "metadata": {},
   "outputs": [
    {
     "name": "stdout",
     "output_type": "stream",
     "text": [
      "+--------------+----------+----------+--------------+\n",
      "|         State|Population|AreaInSqKm|DensityPerSqKm|\n",
      "+--------------+----------+----------+--------------+\n",
      "| Uttar Pradesh| 199812341|    240928|           828|\n",
      "|   Maharashtra| 112372972|    307713|           365|\n",
      "|         Bihar| 103804637|     94163|          1102|\n",
      "|Madhya Pradesh|  91347736|     88752|          1029|\n",
      "|Madhya Pradesh|  72597565|    308245|           236|\n",
      "|    Tamil Nadu|  72138958|    130058|           555|\n",
      "|     Rajasthan|  68621012|    342239|           201|\n",
      "|     Karnataka|  61130704|    191791|           319|\n",
      "|       Gujarat|  60383628|    196024|           308|\n",
      "|         Bihar|  49386799|    162968|           303|\n",
      "|        Odisha|  41947358|    155707|           269|\n",
      "|     Telangana|  35286757|    114840|           307|\n",
      "|        Kerala|  33387677|     38863|           859|\n",
      "|   Maharashtra|  32966238|     79714|           414|\n",
      "|Madhya Pradesh|  31169272|     78438|           397|\n",
      "|        Punjab|  27704236|     50362|           550|\n",
      "|   Maharashtra|  25540196|    135191|           189|\n",
      "|Madhya Pradesh|  25353081|     44212|           573|\n",
      "+--------------+----------+----------+--------------+\n",
      "\n"
     ]
    }
   ],
   "source": [
    "csvfile.show()"
   ]
  },
  {
   "cell_type": "code",
   "execution_count": 17,
   "metadata": {},
   "outputs": [
    {
     "name": "stdout",
     "output_type": "stream",
     "text": [
      "+------+-----+\n",
      "|  word|count|\n",
      "+------+-----+\n",
      "|114840|    1|\n",
      "| 88752|    1|\n",
      "| 44212|    1|\n",
      "|196024|    1|\n",
      "|307713|    1|\n",
      "|240928|    1|\n",
      "|342239|    1|\n",
      "|162968|    1|\n",
      "| 50362|    1|\n",
      "|135191|    1|\n",
      "|155707|    1|\n",
      "|191791|    1|\n",
      "|130058|    1|\n",
      "| 94163|    1|\n",
      "| 38863|    1|\n",
      "| 78438|    1|\n",
      "|308245|    1|\n",
      "| 79714|    1|\n",
      "+------+-----+\n",
      "\n"
     ]
    }
   ],
   "source": [
    "csvfile.withColumn('word', f.explode(f.split(f.col('AreaInSqKm'),',')))\\\n",
    "    .groupBy('word')\\\n",
    "    .count()\\\n",
    "    .sort('count')\\\n",
    "    .show()"
   ]
  },
  {
   "cell_type": "code",
   "execution_count": 14,
   "metadata": {},
   "outputs": [
    {
     "name": "stdout",
     "output_type": "stream",
     "text": [
      "+--------------+-----+\n",
      "|          word|count|\n",
      "+--------------+-----+\n",
      "|    Tamil Nadu|    1|\n",
      "|     Karnataka|    1|\n",
      "|        Kerala|    1|\n",
      "|     Rajasthan|    1|\n",
      "|     Telangana|    1|\n",
      "| Uttar Pradesh|    1|\n",
      "|        Punjab|    1|\n",
      "|        Odisha|    1|\n",
      "|       Gujarat|    1|\n",
      "|         Bihar|    2|\n",
      "|   Maharashtra|    3|\n",
      "|Madhya Pradesh|    4|\n",
      "+--------------+-----+\n",
      "\n"
     ]
    }
   ],
   "source": [
    "csvfile.withColumn('word', f.explode(f.split(f.col('State'),',')))\\\n",
    "    .groupBy('word')\\\n",
    "    .count()\\\n",
    "    .sort('count')\\\n",
    "    .show()"
   ]
  },
  {
   "cell_type": "code",
   "execution_count": 18,
   "metadata": {},
   "outputs": [
    {
     "name": "stdout",
     "output_type": "stream",
     "text": [
      "+---------+------+----+\n",
      "|education|name  |year|\n",
      "+---------+------+----+\n",
      "|ME       |swara |2013|\n",
      "|BE       |sanket|2014|\n",
      "|ME       |sanket|2017|\n",
      "+---------+------+----+\n",
      "\n"
     ]
    }
   ],
   "source": [
    "df = spark.read.json(\"file:///home/shital/Desktop/pyspark_program/input/jsonfile.json\",multiLine=True)\n",
    "df.show(truncate=0)"
   ]
  },
  {
   "cell_type": "code",
   "execution_count": 19,
   "metadata": {},
   "outputs": [
    {
     "name": "stdout",
     "output_type": "stream",
     "text": [
      "+---------+-----+\n",
      "|education|count|\n",
      "+---------+-----+\n",
      "|       ME|    2|\n",
      "|       BE|    1|\n",
      "+---------+-----+\n",
      "\n"
     ]
    }
   ],
   "source": [
    "import pyspark.sql.functions as f\n",
    "df.groupBy('education')\\\n",
    "    .count()\\\n",
    "    .show()"
   ]
  },
  {
   "cell_type": "code",
   "execution_count": 22,
   "metadata": {},
   "outputs": [
    {
     "name": "stdout",
     "output_type": "stream",
     "text": [
      "+------+-----+\n",
      "|  name|count|\n",
      "+------+-----+\n",
      "| swara|    1|\n",
      "|sanket|    2|\n",
      "+------+-----+\n",
      "\n"
     ]
    }
   ],
   "source": [
    "df.groupBy('name')\\\n",
    "    .count()\\\n",
    "    .show()"
   ]
  },
  {
   "cell_type": "code",
   "execution_count": 39,
   "metadata": {},
   "outputs": [
    {
     "name": "stderr",
     "output_type": "stream",
     "text": [
      "                                                                                \r"
     ]
    }
   ],
   "source": [
    "parqfile1 = spark.read.parquet(\"file:///home/shital/Desktop/pyspark_program/output/outputparq.parquet\")"
   ]
  },
  {
   "cell_type": "code",
   "execution_count": 40,
   "metadata": {},
   "outputs": [
    {
     "name": "stderr",
     "output_type": "stream",
     "text": [
      "[Stage 34:>                                                         (0 + 1) / 1]\r"
     ]
    },
    {
     "name": "stdout",
     "output_type": "stream",
     "text": [
      "+--------------+----------+----------+--------------+\n",
      "|         State|Population|AreaInSqKm|DensityPerSqKm|\n",
      "+--------------+----------+----------+--------------+\n",
      "| Uttar Pradesh| 199812341|    240928|           828|\n",
      "|   Maharashtra| 112372972|    307713|           365|\n",
      "|         Bihar| 103804637|     94163|          1102|\n",
      "|Madhya Pradesh|  91347736|     88752|          1029|\n",
      "|Madhya Pradesh|  72597565|    308245|           236|\n",
      "|    Tamil Nadu|  72138958|    130058|           555|\n",
      "|     Rajasthan|  68621012|    342239|           201|\n",
      "|     Karnataka|  61130704|    191791|           319|\n",
      "|       Gujarat|  60383628|    196024|           308|\n",
      "|         Bihar|  49386799|    162968|           303|\n",
      "|        Odisha|  41947358|    155707|           269|\n",
      "|     Telangana|  35286757|    114840|           307|\n",
      "|        Kerala|  33387677|     38863|           859|\n",
      "|   Maharashtra|  32966238|     79714|           414|\n",
      "|Madhya Pradesh|  31169272|     78438|           397|\n",
      "|        Punjab|  27704236|     50362|           550|\n",
      "|   Maharashtra|  25540196|    135191|           189|\n",
      "|Madhya Pradesh|  25353081|     44212|           573|\n",
      "+--------------+----------+----------+--------------+\n",
      "\n"
     ]
    },
    {
     "name": "stderr",
     "output_type": "stream",
     "text": [
      "                                                                                \r"
     ]
    }
   ],
   "source": [
    "parqfile1.show()"
   ]
  },
  {
   "cell_type": "code",
   "execution_count": 41,
   "metadata": {},
   "outputs": [
    {
     "name": "stderr",
     "output_type": "stream",
     "text": [
      "[Stage 35:>                                                         (0 + 1) / 1]\r"
     ]
    },
    {
     "name": "stdout",
     "output_type": "stream",
     "text": [
      "+--------------+-----+\n",
      "|          word|count|\n",
      "+--------------+-----+\n",
      "|    Tamil Nadu|    1|\n",
      "|     Karnataka|    1|\n",
      "|        Kerala|    1|\n",
      "|     Rajasthan|    1|\n",
      "|     Telangana|    1|\n",
      "| Uttar Pradesh|    1|\n",
      "|        Punjab|    1|\n",
      "|        Odisha|    1|\n",
      "|       Gujarat|    1|\n",
      "|         Bihar|    2|\n",
      "|   Maharashtra|    3|\n",
      "|Madhya Pradesh|    4|\n",
      "+--------------+-----+\n",
      "\n"
     ]
    },
    {
     "name": "stderr",
     "output_type": "stream",
     "text": [
      "                                                                                \r"
     ]
    }
   ],
   "source": [
    "parqfile1.withColumn('word', f.explode(f.split(f.col('State'),',')))\\\n",
    "    .groupBy('word')\\\n",
    "    .count()\\\n",
    "    .sort('count')\\\n",
    "    .show()"
   ]
  }
 ],
 "metadata": {
  "interpreter": {
   "hash": "916dbcbb3f70747c44a77c7bcd40155683ae19c65e1c03b4aa3499c5328201f1"
  },
  "kernelspec": {
   "display_name": "Python 3.8.10 64-bit",
   "language": "python",
   "name": "python3"
  },
  "language_info": {
   "codemirror_mode": {
    "name": "ipython",
    "version": 3
   },
   "file_extension": ".py",
   "mimetype": "text/x-python",
   "name": "python",
   "nbconvert_exporter": "python",
   "pygments_lexer": "ipython3",
   "version": "3.8.10"
  },
  "orig_nbformat": 4
 },
 "nbformat": 4,
 "nbformat_minor": 2
}
