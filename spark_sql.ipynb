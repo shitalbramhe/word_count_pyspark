{
 "cells": [
  {
   "cell_type": "code",
   "execution_count": 5,
   "metadata": {},
   "outputs": [],
   "source": [
    "from pyspark.sql import SparkSession\n",
    "spark = SparkSession.builder\\\n",
    "                    .master(\"local\")\\\n",
    "                    .appName(\"spark sql\")\\\n",
    "                    .getOrCreate()\n"
   ]
  },
  {
   "cell_type": "code",
   "execution_count": 6,
   "metadata": {},
   "outputs": [],
   "source": [
    "import pyspark.sql.functions as f"
   ]
  },
  {
   "cell_type": "code",
   "execution_count": 4,
   "metadata": {},
   "outputs": [
    {
     "name": "stderr",
     "output_type": "stream",
     "text": [
      "                                                                                \r"
     ]
    }
   ],
   "source": [
    "csv_df = spark.read.csv(\"file:///home/shital/Desktop/pyspark_program/input/StateCensusData.csv\",header=True, inferSchema=True)"
   ]
  },
  {
   "cell_type": "code",
   "execution_count": 7,
   "metadata": {},
   "outputs": [
    {
     "name": "stdout",
     "output_type": "stream",
     "text": [
      "+--------------+----------+----------+--------------+\n",
      "|         State|Population|AreaInSqKm|DensityPerSqKm|\n",
      "+--------------+----------+----------+--------------+\n",
      "| Uttar Pradesh| 199812341|    240928|           828|\n",
      "|   Maharashtra| 112372972|    307713|           365|\n",
      "|         Bihar| 103804637|     94163|          1102|\n",
      "|Madhya Pradesh|  91347736|     88752|          1029|\n",
      "|Madhya Pradesh|  72597565|    308245|           236|\n",
      "|    Tamil Nadu|  72138958|    130058|           555|\n",
      "|     Rajasthan|  68621012|    342239|           201|\n",
      "|     Karnataka|  61130704|    191791|           319|\n",
      "|       Gujarat|  60383628|    196024|           308|\n",
      "|         Bihar|  49386799|    162968|           303|\n",
      "|        Odisha|  41947358|    155707|           269|\n",
      "|     Telangana|  35286757|    114840|           307|\n",
      "|        Kerala|  33387677|     38863|           859|\n",
      "|   Maharashtra|  32966238|     79714|           414|\n",
      "|Madhya Pradesh|  31169272|     78438|           397|\n",
      "|        Punjab|  27704236|     50362|           550|\n",
      "|   Maharashtra|  25540196|    135191|           189|\n",
      "|Madhya Pradesh|  25353081|     44212|           573|\n",
      "+--------------+----------+----------+--------------+\n",
      "\n"
     ]
    }
   ],
   "source": [
    "csv_df.show()"
   ]
  },
  {
   "cell_type": "code",
   "execution_count": 8,
   "metadata": {},
   "outputs": [
    {
     "name": "stdout",
     "output_type": "stream",
     "text": [
      "root\n",
      " |-- State: string (nullable = true)\n",
      " |-- Population: integer (nullable = true)\n",
      " |-- AreaInSqKm: integer (nullable = true)\n",
      " |-- DensityPerSqKm: integer (nullable = true)\n",
      "\n"
     ]
    }
   ],
   "source": [
    "csv_df.printSchema()"
   ]
  },
  {
   "cell_type": "code",
   "execution_count": 9,
   "metadata": {},
   "outputs": [
    {
     "name": "stderr",
     "output_type": "stream",
     "text": [
      "[Stage 3:>                                                          (0 + 1) / 1]\r"
     ]
    },
    {
     "name": "stdout",
     "output_type": "stream",
     "text": [
      "+--------------+----------+----------+--------------+\n",
      "|         State|Population|AreaInSqKm|DensityPerSqKm|\n",
      "+--------------+----------+----------+--------------+\n",
      "| Uttar Pradesh| 199812341|    240928|           828|\n",
      "|   Maharashtra| 112372972|    307713|           365|\n",
      "|         Bihar| 103804637|     94163|          1102|\n",
      "|Madhya Pradesh|  91347736|     88752|          1029|\n",
      "|Madhya Pradesh|  72597565|    308245|           236|\n",
      "+--------------+----------+----------+--------------+\n",
      "\n"
     ]
    },
    {
     "name": "stderr",
     "output_type": "stream",
     "text": [
      "                                                                                \r"
     ]
    }
   ],
   "source": [
    "csv_df.limit(5).show()"
   ]
  },
  {
   "cell_type": "code",
   "execution_count": 10,
   "metadata": {},
   "outputs": [
    {
     "name": "stdout",
     "output_type": "stream",
     "text": [
      "+--------------+----------+----------+--------------+\n",
      "|         State|Population|AreaInSqKm|DensityPerSqKm|\n",
      "+--------------+----------+----------+--------------+\n",
      "| Uttar Pradesh| 199812341|    240928|           828|\n",
      "|   Maharashtra| 112372972|    307713|           365|\n",
      "|         Bihar| 103804637|     94163|          1102|\n",
      "|Madhya Pradesh|  91347736|     88752|          1029|\n",
      "|Madhya Pradesh|  72597565|    308245|           236|\n",
      "|    Tamil Nadu|  72138958|    130058|           555|\n",
      "|     Rajasthan|  68621012|    342239|           201|\n",
      "|     Karnataka|  61130704|    191791|           319|\n",
      "|       Gujarat|  60383628|    196024|           308|\n",
      "|         Bihar|  49386799|    162968|           303|\n",
      "|        Odisha|  41947358|    155707|           269|\n",
      "|     Telangana|  35286757|    114840|           307|\n",
      "|        Kerala|  33387677|     38863|           859|\n",
      "|   Maharashtra|  32966238|     79714|           414|\n",
      "|Madhya Pradesh|  31169272|     78438|           397|\n",
      "|        Punjab|  27704236|     50362|           550|\n",
      "|   Maharashtra|  25540196|    135191|           189|\n",
      "|Madhya Pradesh|  25353081|     44212|           573|\n",
      "+--------------+----------+----------+--------------+\n",
      "\n"
     ]
    }
   ],
   "source": [
    "csv_df.select('*').show()"
   ]
  },
  {
   "cell_type": "code",
   "execution_count": 11,
   "metadata": {},
   "outputs": [
    {
     "name": "stdout",
     "output_type": "stream",
     "text": [
      "+--------------+----------+\n",
      "|         State|Population|\n",
      "+--------------+----------+\n",
      "| Uttar Pradesh| 199812341|\n",
      "|   Maharashtra| 112372972|\n",
      "|         Bihar| 103804637|\n",
      "|Madhya Pradesh|  91347736|\n",
      "|Madhya Pradesh|  72597565|\n",
      "+--------------+----------+\n",
      "\n"
     ]
    }
   ],
   "source": [
    "csv_df.select('State','Population').limit(5).show()"
   ]
  },
  {
   "cell_type": "code",
   "execution_count": 12,
   "metadata": {},
   "outputs": [
    {
     "name": "stdout",
     "output_type": "stream",
     "text": [
      "+--------------+----------+----------+--------------+\n",
      "|         State|Population|AreaInSqKm|DensityPerSqKm|\n",
      "+--------------+----------+----------+--------------+\n",
      "|Madhya Pradesh|  91347736|     88752|          1029|\n",
      "|Madhya Pradesh|  25353081|     44212|           573|\n",
      "+--------------+----------+----------+--------------+\n",
      "\n"
     ]
    }
   ],
   "source": [
    "csv_df.where((csv_df.DensityPerSqKm > 400) & (csv_df.State == 'Madhya Pradesh')).show()"
   ]
  },
  {
   "cell_type": "code",
   "execution_count": 13,
   "metadata": {},
   "outputs": [
    {
     "name": "stdout",
     "output_type": "stream",
     "text": [
      "+--------------------+\n",
      "|     avg(Population)|\n",
      "+--------------------+\n",
      "|6.3608398166666664E7|\n",
      "+--------------------+\n",
      "\n"
     ]
    }
   ],
   "source": [
    "csv_df.agg({'Population':'avg'}).show()"
   ]
  },
  {
   "cell_type": "code",
   "execution_count": 14,
   "metadata": {},
   "outputs": [
    {
     "name": "stdout",
     "output_type": "stream",
     "text": [
      "+--------------+---------------+\n",
      "|         State|avg(Population)|\n",
      "+--------------+---------------+\n",
      "| Uttar Pradesh|   1.99812341E8|\n",
      "|     Telangana|    3.5286757E7|\n",
      "|    Tamil Nadu|    7.2138958E7|\n",
      "|     Rajasthan|    6.8621012E7|\n",
      "|        Punjab|    2.7704236E7|\n",
      "|        Odisha|    4.1947358E7|\n",
      "|   Maharashtra|    5.6959802E7|\n",
      "|Madhya Pradesh|   5.51169135E7|\n",
      "|        Kerala|    3.3387677E7|\n",
      "|     Karnataka|    6.1130704E7|\n",
      "|       Gujarat|    6.0383628E7|\n",
      "|         Bihar|    7.6595718E7|\n",
      "+--------------+---------------+\n",
      "\n"
     ]
    }
   ],
   "source": [
    "csv_df.groupBy('State').agg({'Population':'avg'}).orderBy('State', ascending = False).show()"
   ]
  },
  {
   "cell_type": "code",
   "execution_count": 15,
   "metadata": {},
   "outputs": [
    {
     "name": "stderr",
     "output_type": "stream",
     "text": [
      "[Stage 17:>                                                         (0 + 1) / 1]\r"
     ]
    },
    {
     "name": "stdout",
     "output_type": "stream",
     "text": [
      "+--------------+---------------------+\n",
      "|         State|int_float(Population)|\n",
      "+--------------+---------------------+\n",
      "| Uttar Pradesh|         1.99812336E8|\n",
      "|   Maharashtra|         1.12372976E8|\n",
      "|         Bihar|          1.0380464E8|\n",
      "|Madhya Pradesh|          9.1347736E7|\n",
      "|Madhya Pradesh|          7.2597568E7|\n",
      "|    Tamil Nadu|           7.213896E7|\n",
      "|     Rajasthan|          6.8621008E7|\n",
      "|     Karnataka|          6.1130704E7|\n",
      "|       Gujarat|          6.0383628E7|\n",
      "|         Bihar|            4.93868E7|\n",
      "|        Odisha|           4.194736E7|\n",
      "|     Telangana|          3.5286756E7|\n",
      "|        Kerala|          3.3387676E7|\n",
      "|   Maharashtra|          3.2966238E7|\n",
      "|Madhya Pradesh|          3.1169272E7|\n",
      "|        Punjab|          2.7704236E7|\n",
      "|   Maharashtra|          2.5540196E7|\n",
      "|Madhya Pradesh|           2.535308E7|\n",
      "+--------------+---------------------+\n",
      "\n"
     ]
    },
    {
     "name": "stderr",
     "output_type": "stream",
     "text": [
      "                                                                                \r"
     ]
    }
   ],
   "source": [
    "from pyspark.sql.types import FloatType\n",
    "from pyspark.sql.functions import udf\n",
    "\n",
    "def int_float(x):\n",
    "    return float(x)\n",
    "\n",
    "int_float_udf = udf(int_float, FloatType())\n",
    "csv_df.select('State',int_float_udf('Population')).alias('Population in float').show()"
   ]
  },
  {
   "cell_type": "code",
   "execution_count": 16,
   "metadata": {},
   "outputs": [],
   "source": [
    "csv_df.createOrReplaceTempView(\"data\")"
   ]
  },
  {
   "cell_type": "code",
   "execution_count": 17,
   "metadata": {},
   "outputs": [
    {
     "name": "stdout",
     "output_type": "stream",
     "text": [
      "+--------------+---------+-------+\n",
      "|      col_name|data_type|comment|\n",
      "+--------------+---------+-------+\n",
      "|         State|   string|   null|\n",
      "|    Population|      int|   null|\n",
      "|    AreaInSqKm|      int|   null|\n",
      "|DensityPerSqKm|      int|   null|\n",
      "+--------------+---------+-------+\n",
      "\n"
     ]
    }
   ],
   "source": [
    "spark.sql(\"describe data\").show()"
   ]
  },
  {
   "cell_type": "code",
   "execution_count": 18,
   "metadata": {},
   "outputs": [
    {
     "name": "stdout",
     "output_type": "stream",
     "text": [
      "+--------------+----------+----------+--------------+\n",
      "|         State|Population|AreaInSqKm|DensityPerSqKm|\n",
      "+--------------+----------+----------+--------------+\n",
      "| Uttar Pradesh| 199812341|    240928|           828|\n",
      "|   Maharashtra| 112372972|    307713|           365|\n",
      "|         Bihar| 103804637|     94163|          1102|\n",
      "|Madhya Pradesh|  91347736|     88752|          1029|\n",
      "|Madhya Pradesh|  72597565|    308245|           236|\n",
      "|    Tamil Nadu|  72138958|    130058|           555|\n",
      "|     Rajasthan|  68621012|    342239|           201|\n",
      "|     Karnataka|  61130704|    191791|           319|\n",
      "|       Gujarat|  60383628|    196024|           308|\n",
      "|         Bihar|  49386799|    162968|           303|\n",
      "|        Odisha|  41947358|    155707|           269|\n",
      "|     Telangana|  35286757|    114840|           307|\n",
      "|        Kerala|  33387677|     38863|           859|\n",
      "|   Maharashtra|  32966238|     79714|           414|\n",
      "|Madhya Pradesh|  31169272|     78438|           397|\n",
      "|        Punjab|  27704236|     50362|           550|\n",
      "|   Maharashtra|  25540196|    135191|           189|\n",
      "|Madhya Pradesh|  25353081|     44212|           573|\n",
      "+--------------+----------+----------+--------------+\n",
      "\n"
     ]
    },
    {
     "name": "stderr",
     "output_type": "stream",
     "text": [
      "22/03/22 12:04:36 WARN HeartbeatReceiver: Removing executor driver with no recent heartbeats: 128198 ms exceeds timeout 120000 ms\n",
      "22/03/22 12:04:39 WARN SparkContext: Killing executors is not supported by current scheduler.\n"
     ]
    }
   ],
   "source": [
    "spark.sql('select * from data').show()"
   ]
  }
 ],
 "metadata": {
  "interpreter": {
   "hash": "916dbcbb3f70747c44a77c7bcd40155683ae19c65e1c03b4aa3499c5328201f1"
  },
  "kernelspec": {
   "display_name": "Python 3.8.10 64-bit",
   "language": "python",
   "name": "python3"
  },
  "language_info": {
   "codemirror_mode": {
    "name": "ipython",
    "version": 3
   },
   "file_extension": ".py",
   "mimetype": "text/x-python",
   "name": "python",
   "nbconvert_exporter": "python",
   "pygments_lexer": "ipython3",
   "version": "3.8.10"
  },
  "orig_nbformat": 4
 },
 "nbformat": 4,
 "nbformat_minor": 2
}
