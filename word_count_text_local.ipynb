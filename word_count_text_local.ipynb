{
 "cells": [
  {
   "cell_type": "code",
   "execution_count": 1,
   "metadata": {},
   "outputs": [
    {
     "name": "stderr",
     "output_type": "stream",
     "text": [
      "22/03/20 18:37:20 WARN Utils: Your hostname, shital-VivoBook-ASUS-Laptop-X505ZA-X505ZA resolves to a loopback address: 127.0.1.1; using 192.168.0.241 instead (on interface wlp1s0)\n",
      "22/03/20 18:37:20 WARN Utils: Set SPARK_LOCAL_IP if you need to bind to another address\n",
      "Using Spark's default log4j profile: org/apache/spark/log4j-defaults.properties\n",
      "Setting default log level to \"WARN\".\n",
      "To adjust logging level use sc.setLogLevel(newLevel). For SparkR, use setLogLevel(newLevel).\n",
      "22/03/20 18:37:24 WARN NativeCodeLoader: Unable to load native-hadoop library for your platform... using builtin-java classes where applicable\n",
      "22/03/20 18:37:27 WARN Utils: Service 'SparkUI' could not bind on port 4040. Attempting port 4041.\n",
      "22/03/20 18:37:27 WARN Utils: Service 'SparkUI' could not bind on port 4041. Attempting port 4042.\n",
      "22/03/20 18:37:27 WARN Utils: Service 'SparkUI' could not bind on port 4042. Attempting port 4043.\n",
      "22/03/20 18:37:27 WARN Utils: Service 'SparkUI' could not bind on port 4043. Attempting port 4044.\n",
      "                                                                                \r"
     ]
    },
    {
     "data": {
      "text/plain": [
       "[('hi', 3),\n",
       " ('good', 2),\n",
       " ('morning', 2),\n",
       " ('how', 1),\n",
       " ('are', 1),\n",
       " ('you', 1),\n",
       " ('welcome', 1),\n",
       " ('', 1)]"
      ]
     },
     "execution_count": 1,
     "metadata": {},
     "output_type": "execute_result"
    }
   ],
   "source": [
    "from pyspark import SparkContext, SparkConf\n",
    "\n",
    "conf = SparkConf().setAppName(\"Demo\").setMaster(\"local\")\n",
    "sc = SparkContext(conf = conf)\n",
    "\n",
    "textfile = sc.textFile(\"file:///home/shital/Desktop/pyspark_program/input/file.txt\")\n",
    "words = textfile.flatMap(lambda line: line.split(\" \"))\n",
    "wordcount = words.map(lambda word : (word,1)).reduceByKey(lambda a,b:a+b)\n",
    "wordcount.collect()"
   ]
  }
 ],
 "metadata": {
  "interpreter": {
   "hash": "916dbcbb3f70747c44a77c7bcd40155683ae19c65e1c03b4aa3499c5328201f1"
  },
  "kernelspec": {
   "display_name": "Python 3.8.10 64-bit",
   "language": "python",
   "name": "python3"
  },
  "language_info": {
   "codemirror_mode": {
    "name": "ipython",
    "version": 3
   },
   "file_extension": ".py",
   "mimetype": "text/x-python",
   "name": "python",
   "nbconvert_exporter": "python",
   "pygments_lexer": "ipython3",
   "version": "3.8.10"
  },
  "orig_nbformat": 4
 },
 "nbformat": 4,
 "nbformat_minor": 2
}
